{
 "cells": [
  {
   "cell_type": "code",
   "execution_count": 2,
   "id": "1937cd91-7c91-4452-8a38-b0bf66cff1d1",
   "metadata": {},
   "outputs": [],
   "source": [
    "import os\n",
    "from pyschism.forcing.nws import GFS, HRRR, ERA5, BestTrackForcing\n",
    "from datetime import datetime, timedelta\n",
    "import pathlib\n",
    "\n",
    "from pyschism.mesh.base import Elements\n",
    "from pyschism.mesh.base import Gr3\n",
    "from pyschism.mesh.gridgr3 import Gr3Field\n",
    "from pyschism.param.param import Param\n",
    "import ocsmesh\n",
    "import pyschism\n",
    "import pyschism.driver\n",
    "\n",
    "from __future__ import annotations\n",
    "from copy import deepcopy\n",
    "from datetime import datetime, timedelta\n",
    "from pathlib import Path\n",
    "\n",
    "#hgrid = pyschism.mesh.Hgrid.open('tidal.schism.pahm.adcirc/ww3_at_sch.gr3', crs=4326)\n",
    "\n",
    "#hgrid = pyschism.mesh.Hgrid.open('/contrib/Yunfang.Sun/CoastalApp-testsuite/comm/mesh/fort_1.14', crs=4326)\n",
    "\n",
    "#hgrid = pyschism.mesh.Hgrid.open('/contrib/Yunfang.Sun/sunflow/myflow/subset/subset_corrected/hgrid.gr3', crs=4326)\n",
    "m1 = ocsmesh.Mesh.open('/contrib/Yunfang.Sun/sunflow/myflow/subset/subset_corrected/hgrid.gr3', crs=4326)\n",
    "crd1 = m1.msh_t.vert2['coord']\n",
    "crdmap1 = {tuple(coo): i for i, coo in enumerate(crd1)}\n",
    "dupl1 = [i for i, coo in enumerate(crd1) if crdmap1[tuple(coo)] != i]"
   ]
  },
  {
   "cell_type": "code",
   "execution_count": 8,
   "id": "a22f390e-23c5-4ee8-b40b-0d26d3e256d4",
   "metadata": {},
   "outputs": [
    {
     "data": {
      "image/png": "[encoded data removed]",
      "text/plain": [
       "<Figure size 640x480 with 1 Axes>"
      ]
     },
     "metadata": {},
     "output_type": "display_data"
    }
   ],
   "source": [
    "#from pyschism.mesh.Hgrid import Hgrid\n",
    "\n",
    "hg = pyschism.mesh.Hgrid.open('/contrib/Yunfang.Sun/sunflow/myflow/subset/subset_corrected/hgrid.gr3', crs=4326)\n",
    "hg.boundaries.open.drop(columns=['indexes', 'index_id']).set_index('id').to_file('/contrib/Yunfang.Sun/sunflow/myflow/subset/subset_corrected/open')\n",
    "m = ocsmesh.Mesh.open('/contrib/Yunfang.Sun/sunflow/myflow/subset/subset_corrected/hgrid.gr3', crs=4326)                                                                                                                                                                                                                                           \n",
    "m.boundaries.open().plot()\n",
    "from matplotlib import pyplot as plt\n",
    "plt.show()\n",
    "from shapely import box\n",
    "m.boundaries.set_land(box(-100, 0, -61, 60))"
   ]
  },
  {
   "cell_type": "code",
   "execution_count": 9,
   "id": "6ce5e9da-ccff-4162-a7a2-453c0466f72f",
   "metadata": {},
   "outputs": [],
   "source": [
    "import ocsmesh\n",
    "from shapely import box\n",
    "m = ocsmesh.Mesh.open('/contrib/Yunfang.Sun/sunflow/myflow/subset/subset_corrected/hgrid.gr3', crs=4326)\n",
    "ocsmesh.utils.cleanup_isolates(m.msh_t)\n",
    "m.boundaries.auto_generate(threshold=-10)\n",
    "m.boundaries.set_land(box(-100, 0, -60.5, 60))\n",
    "m.write('/contrib/Yunfang.Sun/sunflow/myflow/subset/subset_corrected/clean_hgrid.gr3', format='grd')"
   ]
  },
  {
   "cell_type": "code",
   "execution_count": 10,
   "id": "a530ad0d-4e55-4540-ba46-083b24354a01",
   "metadata": {},
   "outputs": [
    {
     "name": "stderr",
     "output_type": "stream",
     "text": [
      "/contrib/Yunfang.Sun/conda3/envs/adcirc_subset_schism_dask_new/lib/python3.11/site-packages/stormevents/nhc/track.py:173: UserWarning: It is recommended to specify the file_deck and/or advisories when reading from file\n",
      "  warnings.warn(\n"
     ]
    },
    {
     "name": "stdout",
     "output_type": "stream",
     "text": [
      "Temperature is not sepcified, not input needed!\n",
      "Temperature is not sepcified, not input needed!\n"
     ]
    }
   ],
   "source": [
    "import os\n",
    "from pyschism.forcing.nws import GFS, HRRR, ERA5, BestTrackForcing\n",
    "from datetime import datetime, timedelta\n",
    "import pathlib\n",
    "\n",
    "from pyschism.mesh.base import Elements\n",
    "from pyschism.mesh.base import Gr3\n",
    "from pyschism.mesh.gridgr3 import Gr3Field\n",
    "from pyschism.param.param import Param\n",
    "import ocsmesh\n",
    "import pyschism\n",
    "import pyschism.driver\n",
    "\n",
    "from __future__ import annotations\n",
    "from copy import deepcopy\n",
    "from datetime import datetime, timedelta\n",
    "from pathlib import Path\n",
    "\n",
    "#hgrid = pyschism.mesh.Hgrid.open('tidal.schism.pahm.adcirc/ww3_at_sch.gr3', crs=4326)\n",
    "\n",
    "#hgrid = pyschism.mesh.Hgrid.open('/contrib/Yunfang.Sun/CoastalApp-testsuite/comm/mesh/fort_1.14', crs=4326)\n",
    "\n",
    "hgrid = pyschism.mesh.Hgrid.open('/contrib/Yunfang.Sun/sunflow/myflow/subset/subset_corrected/clean_hgrid.gr3', crs=4326)\n",
    "\n",
    "\n",
    "dramp = timedelta(days=8.)\n",
    "\n",
    "\n",
    "\n",
    "atmospheric = BestTrackForcing.from_nhc_bdeck(nhc_bdeck='hurricane-track.dat') \n",
    "\n",
    "fgrid = pyschism.mesh.ManningsN.linear_with_depth(\n",
    "    hgrid,\n",
    "    min_value=0.02, max_value=0.05,\n",
    "    min_depth=-1.0, max_depth=-3.0)\n",
    "\n",
    "\n",
    "config = pyschism.driver.ModelConfig(\n",
    "    hgrid=hgrid,\n",
    "    fgrid=fgrid,\n",
    "#    iettype=pyschism.forcing.bctides.iettype.Iettype3(database=\"tpxo\"),\n",
    "#    ifltype=pyschism.forcing.bctides.ifltype.Ifltype3(database=\"tpxo\"),\n",
    "\n",
    "    flags=[[3,3,0,0] for i in hgrid.boundaries.open.itertuples()],\n",
    "    constituents = 'major',\n",
    "    database = 'tpxo',\n",
    "#    nws=atmospheric,\n",
    "#    nws=NWS2(ERA5()),\n",
    "    )\n",
    "\n",
    "\n",
    "\n",
    "\n",
    "coldstart = config.coldstart(\n",
    "    start_date=datetime(2022,9,15) ,\n",
    "    end_date=datetime(2022,10,7),       \n",
    "    timestep=timedelta(seconds=150),\n",
    "    dramp=dramp,\n",
    "    dramp_ss=dramp,\n",
    "    drampwind=dramp,\n",
    "    nspool=timedelta(hours=1),\n",
    "    elev=True,\n",
    "    dahv=True,\n",
    "    )\n",
    "\n",
    "coldstart.write(Path('/contrib/Yunfang.Sun/sunflow/myflow/subset/subset_corrected_2/'), overwrite=True)"
   ]
  },
  {
   "cell_type": "code",
   "execution_count": 13,
   "id": "dc2d30de-9e34-45db-93f1-0758f7ebf552",
   "metadata": {},
   "outputs": [],
   "source": [
    "from pyschism.mesh import Hgrid, gridgr3\n",
    "windrot = gridgr3.Windrot.default(hgrid)\n",
    "windrot.write('/contrib/Yunfang.Sun/sunflow/myflow/subset/subset_corrected_2/' + \"windrot_geo2proj.gr3\", overwrite=True)"
   ]
  },
  {
   "cell_type": "code",
   "execution_count": 14,
   "id": "ce8e9180-57f0-49f1-83de-08440b4558ca",
   "metadata": {},
   "outputs": [
    {
     "name": "stderr",
     "output_type": "stream",
     "text": [
      "2024-08-14 20:32:04,281 INFO Welcome to the CDS.\n",
      " As per our announcements on the Forum, this instance of CDS will soon be decommissioned.\n",
      " Please update your cdsapi package to a version >=0.7.0, create an account on CDS-Beta and update your .cdsapirc file. We strongly recommend users to check our Guidelines at https://confluence.ecmwf.int/x/uINmFw\n",
      " The current legacy system will be kept for a while, but we will reduce resources gradually until full decommissioning in September 2024.\n"
     ]
    },
    {
     "name": "stdout",
     "output_type": "stream",
     "text": [
      "Welcome to the CDS.\n",
      " As per our announcements on the Forum, this instance of CDS will soon be decommissioned.\n",
      " Please update your cdsapi package to a version >=0.7.0, create an account on CDS-Beta and update your .cdsapirc file. We strongly recommend users to check our Guidelines at https://confluence.ecmwf.int/x/uINmFw\n",
      " The current legacy system will be kept for a while, but we will reduce resources gradually until full decommissioning in September 2024.\n"
     ]
    },
    {
     "name": "stderr",
     "output_type": "stream",
     "text": [
      "2024-08-14 20:32:04,282 WARNING MOVE TO CDS-Beta\n"
     ]
    },
    {
     "name": "stdout",
     "output_type": "stream",
     "text": [
      "MOVE TO CDS-Beta\n"
     ]
    },
    {
     "name": "stderr",
     "output_type": "stream",
     "text": [
      "2024-08-14 20:32:04,282 INFO Sending request to https://cds.climate.copernicus.eu/api/v2/resources/reanalysis-era5-single-levels\n"
     ]
    },
    {
     "name": "stdout",
     "output_type": "stream",
     "text": [
      "Sending request to https://cds.climate.copernicus.eu/api/v2/resources/reanalysis-era5-single-levels\n"
     ]
    },
    {
     "name": "stderr",
     "output_type": "stream",
     "text": [
      "2024-08-14 20:32:04,683 INFO Request is completed\n"
     ]
    },
    {
     "name": "stdout",
     "output_type": "stream",
     "text": [
      "Request is completed\n"
     ]
    },
    {
     "name": "stderr",
     "output_type": "stream",
     "text": [
      "2024-08-14 20:32:04,684 INFO Downloading https://download-0017.copernicus-climate.eu/cache-compute-0017/cache/data3/adaptor.mars.internal-1723566518.9296668-24668-15-c83d630e-03cc-46f7-9c76-3c3f2963f6dd.nc to /tmp/tmpte_mtsz6/era5_20220915.nc (215.3M)\n"
     ]
    },
    {
     "name": "stdout",
     "output_type": "stream",
     "text": [
      "Downloading https://download-0017.copernicus-climate.eu/cache-compute-0017/cache/data3/adaptor.mars.internal-1723566518.9296668-24668-15-c83d630e-03cc-46f7-9c76-3c3f2963f6dd.nc to /tmp/tmpte_mtsz6/era5_20220915.nc (215.3M)\n"
     ]
    },
    {
     "name": "stderr",
     "output_type": "stream",
     "text": [
      "2024-08-14 20:32:24,889 INFO Download rate 10.7M/s                                                                                                 \n"
     ]
    },
    {
     "name": "stdout",
     "output_type": "stream",
     "text": [
      "Download rate 10.7M/s\n"
     ]
    }
   ],
   "source": [
    "atm_bbox = hgrid.bbox\n",
    "        \n",
    "        #sflux_dir = output_directory+\"/sflux\"\n",
    "        #os.mkdir(sflux_dir)\n",
    "        #sflux_dir = os.path.join(\"r\", run_directory, \"sflux\")\n",
    "sflux_dir = ('/contrib/Yunfang.Sun/sunflow/myflow/subset/subset_corrected_2/' + \"sflux\")\n",
    "os.makedirs(sflux_dir, exist_ok=True)\n",
    "\n",
    "era5 = ERA5()\n",
    "era5.write(\n",
    "#    outdir=sflux_dir,\n",
    "    outdir=pathlib.Path(sflux_dir),\n",
    "    start_date=datetime(2022,9,15),\n",
    "#    end_date=datetime(2022,10,15), \n",
    "    rnday=22,\n",
    "#    rnday=timedelta(days=30.),\n",
    "    air=True, rad=True, prc=True,\n",
    "    bbox=atm_bbox,\n",
    "    overwrite=True)"
   ]
  },
  {
   "cell_type": "code",
   "execution_count": null,
   "id": "255c7b45-4605-40f2-8d61-5d9154fc9997",
   "metadata": {},
   "outputs": [],
   "source": []
  },
  {
   "cell_type": "code",
   "execution_count": null,
   "id": "26fe4609-4c84-467d-b67b-621ea20653f4",
   "metadata": {},
   "outputs": [],
   "source": []
  }
 ],
 "metadata": {
  "kernelspec": {
   "display_name": "Python 3 (ipykernel)",
   "language": "python",
   "name": "python3"
  },
  "language_info": {
   "codemirror_mode": {
    "name": "ipython",
    "version": 3
   },
   "file_extension": ".py",
   "mimetype": "text/x-python",
   "name": "python",
   "nbconvert_exporter": "python",
   "pygments_lexer": "ipython3",
   "version": "3.11.6"
  }
 },
 "nbformat": 4,
 "nbformat_minor": 5
}
